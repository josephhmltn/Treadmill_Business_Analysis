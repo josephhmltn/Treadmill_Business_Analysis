{
  "nbformat": 4,
  "nbformat_minor": 5,
  "metadata": {
    "noteable-chatgpt": {
      "create_notebook": {
        "openai_conversation_id": "feba20c2-1554-536d-915a-3fb7167aee30",
        "openai_ephemeral_user_id": "eec844f1-2705-5b44-b67e-c435818b8fff",
        "openai_subdivision1_iso_code": "US-IN"
      }
    },
    "kernel_info": {
      "name": "python3"
    },
    "kernelspec": {
      "display_name": "Python 3.9",
      "identifier": "legacy",
      "language": "python",
      "language_version": "3.9",
      "name": "python3"
    },
    "selected_hardware_size": "small"
  },
  "cells": [
    {
      "id": "95b0995a-de50-4861-b281-270fbebf25c2",
      "cell_type": "code",
      "metadata": {
        "noteable": {
          "cell_type": "code",
          "output_collection_id": "af9c1960-b712-4207-826c-305ca7c76fb6"
        },
        "ExecuteTime": {
          "end_time": "2023-12-12T22:48:40.681409+00:00",
          "start_time": "2023-12-12T22:48:40.480968+00:00"
        },
        "datalink": {
          "98f8e77c-7491-43d7-98ce-be1c41b6e558": {
            "applied_filters": [],
            "dataframe_info": {
              "default_index_used": false,
              "orig_num_cols": 8,
              "orig_num_rows": 6,
              "orig_size_bytes": 432,
              "truncated_num_cols": 8,
              "truncated_num_rows": 6,
              "truncated_size_bytes": 432,
              "truncated_string_columns": []
            },
            "display_id": "98f8e77c-7491-43d7-98ce-be1c41b6e558",
            "dx_settings": {
              "ALLOW_NOTEABLE_ATTRS": true,
              "COLUMN_SAMPLING_METHOD": "outer",
              "DB_LOCATION": ":memory:",
              "DEV_MODE": false,
              "DISPLAY_MAX_COLUMNS": 100,
              "DISPLAY_MAX_ROWS": 50000,
              "DISPLAY_MODE": "simple",
              "ENABLE_ASSIGNMENT": true,
              "ENABLE_DATALINK": true,
              "FLATTEN_COLUMN_VALUES": true,
              "FLATTEN_INDEX_VALUES": false,
              "GENERATE_DEX_METADATA": false,
              "HTML_TABLE_SCHEMA": false,
              "LOG_LEVEL": 30,
              "MAX_RENDER_SIZE_BYTES": 104857600,
              "MAX_STRING_LENGTH": 250,
              "NUM_PAST_SAMPLES_TRACKED": 3,
              "RANDOM_STATE": 12648430,
              "RESET_INDEX_VALUES": false,
              "ROW_SAMPLING_METHOD": "random",
              "SAMPLING_FACTOR": 0.1,
              "SAMPLING_METHOD": "random",
              "STRINGIFY_COLUMN_VALUES": true,
              "STRINGIFY_INDEX_VALUES": false
            },
            "sample_history": [],
            "sampling_time": "2023-12-12T22:48:40.519290",
            "user_variable_name": "descriptive_stats",
            "variable_name": "descriptive_stats"
          }
        }
      },
      "execution_count": null,
      "source": "import pandas as pd\n\n# Load the dataset\nfile_path = 'treadmill_data.csv'\ndf = pd.read_csv(file_path)\n\n# Display descriptive statistics for numeric columns\ndescriptive_stats = df.describe().transpose()\ndescriptive_stats",
      "outputs": []
    },
    {
      "id": "44d4aae2-b399-402c-a173-1da00db5ae3d",
      "cell_type": "code",
      "metadata": {
        "noteable": {
          "cell_type": "code",
          "output_collection_id": "82eb17b9-fed8-4f32-b10a-8220f5bf2f0a"
        },
        "ExecuteTime": {
          "end_time": "2023-12-12T22:55:33.041012+00:00",
          "start_time": "2023-12-12T22:55:32.850338+00:00"
        },
        "datalink": {
          "d39f091b-b5ec-4c7d-89d8-297cda18fa03": {
            "applied_filters": [],
            "dataframe_info": {
              "default_index_used": false,
              "orig_num_cols": 4,
              "orig_num_rows": 3,
              "orig_size_bytes": 120,
              "truncated_num_cols": 4,
              "truncated_num_rows": 3,
              "truncated_size_bytes": 120,
              "truncated_string_columns": []
            },
            "display_id": "d39f091b-b5ec-4c7d-89d8-297cda18fa03",
            "dx_settings": {
              "ALLOW_NOTEABLE_ATTRS": true,
              "COLUMN_SAMPLING_METHOD": "outer",
              "DB_LOCATION": ":memory:",
              "DEV_MODE": false,
              "DISPLAY_MAX_COLUMNS": 100,
              "DISPLAY_MAX_ROWS": 50000,
              "DISPLAY_MODE": "simple",
              "ENABLE_ASSIGNMENT": true,
              "ENABLE_DATALINK": true,
              "FLATTEN_COLUMN_VALUES": true,
              "FLATTEN_INDEX_VALUES": false,
              "GENERATE_DEX_METADATA": false,
              "HTML_TABLE_SCHEMA": false,
              "LOG_LEVEL": 30,
              "MAX_RENDER_SIZE_BYTES": 104857600,
              "MAX_STRING_LENGTH": 250,
              "NUM_PAST_SAMPLES_TRACKED": 3,
              "RANDOM_STATE": 12648430,
              "RESET_INDEX_VALUES": false,
              "ROW_SAMPLING_METHOD": "random",
              "SAMPLING_FACTOR": 0.1,
              "SAMPLING_METHOD": "random",
              "STRINGIFY_COLUMN_VALUES": true,
              "STRINGIFY_INDEX_VALUES": false
            },
            "sample_history": [],
            "sampling_time": "2023-12-12T22:55:32.882968",
            "user_variable_name": "descriptive_stats_non_numeric",
            "variable_name": "descriptive_stats_non_numeric"
          }
        }
      },
      "execution_count": null,
      "source": "# Descriptive statistics for non-numeric columns\ndescriptive_stats_non_numeric = df.describe(include=['object']).transpose()\ndescriptive_stats_non_numeric",
      "outputs": []
    },
    {
      "id": "58dd0be4-2997-4fd1-b074-d142ee0eb4a9",
      "cell_type": "code",
      "metadata": {
        "noteable": {
          "cell_type": "code",
          "output_collection_id": "acd5a2af-1c60-4dba-bd3d-c5616f8c64f2"
        },
        "ExecuteTime": {
          "end_time": "2023-12-12T23:03:43.450752+00:00",
          "start_time": "2023-12-12T23:03:41.887014+00:00"
        }
      },
      "execution_count": null,
      "source": "import seaborn as sns\nimport matplotlib.pyplot as plt\n\n# Set the style for the plots\nsns.set(style=\"darkgrid\")\nplt.style.use(\"dark_background\")\n\n# Visualization 1: Distribution of Age\nplt.figure(figsize=(10, 6))\nsns.histplot(df['Age'], bins=15, kde=True, color='skyblue')\nplt.title('Distribution of Age')\nplt.xlabel('Age')\nplt.ylabel('Frequency')\nplt.show()\n\n# Visualization 2: Income vs Miles Scatter Plot\nplt.figure(figsize=(10, 6))\nsns.scatterplot(x='Income', y='Miles', data=df, hue='Gender', palette='bright')\nplt.title('Income vs Miles by Gender')\nplt.xlabel('Income')\nplt.ylabel('Miles')\nplt.show()\n\n# Visualization 3: Product Popularity\nplt.figure(figsize=(10, 6))\nproduct_counts = df['Product'].value_counts()\nsns.barplot(x=product_counts.index, y=product_counts.values, palette='Blues_r')\nplt.title('Product Popularity')\nplt.xlabel('Product')\nplt.ylabel('Count')\nplt.show()",
      "outputs": []
    },
    {
      "id": "52491a1a-110d-4ac2-9d80-00d19b917529",
      "cell_type": "code",
      "metadata": {
        "noteable": {
          "cell_type": "code",
          "output_collection_id": "8573abb9-69dc-4a77-ba5b-81471d69a31c"
        },
        "ExecuteTime": {
          "end_time": "2023-12-12T23:08:40.931692+00:00",
          "start_time": "2023-12-12T23:08:40.494700+00:00"
        }
      },
      "execution_count": null,
      "source": "# Calculate the correlation matrix\n\n# Set the style for the plots\nsns.set(style=\"darkgrid\")\nplt.style.use(\"dark_background\")\n\n# Calculate the correlation matrix\ncorrelation_matrix = df.corr()\n\n# Display the heatmap\nplt.figure(figsize=(10, 8))\nsns.heatmap(correlation_matrix, annot=True, cmap='Blues_r')\nplt.title('Correlation Heatmap')\nplt.show()",
      "outputs": []
    },
    {
      "id": "7f2f7653-1af7-489d-85ea-f88a508710c3",
      "cell_type": "code",
      "metadata": {
        "noteable": {
          "cell_type": "code",
          "output_collection_id": "3c9d6d60-c427-4583-979c-69def181d04e"
        },
        "ExecuteTime": {
          "end_time": "2023-12-12T23:13:32.499550+00:00",
          "start_time": "2023-12-12T23:13:32.130589+00:00"
        }
      },
      "execution_count": null,
      "source": "# Gender Distribution\nplt.figure(figsize=(8, 5))\nsns.countplot(x='Gender', data=df, palette='bright')\nplt.title('Gender Distribution')\nplt.xlabel('Gender')\nplt.ylabel('Count')\nplt.show()",
      "outputs": []
    },
    {
      "id": "afa2b4a4-12fc-4390-b83e-ef8ce94365f0",
      "cell_type": "code",
      "metadata": {
        "noteable": {
          "cell_type": "code",
          "output_collection_id": "6d3b1bbf-2fcd-420b-b90a-1229422331fc"
        },
        "ExecuteTime": {
          "end_time": "2023-12-12T23:14:06.927785+00:00",
          "start_time": "2023-12-12T23:14:06.111233+00:00"
        }
      },
      "execution_count": null,
      "source": "# Boxplots for Numeric Variables by Gender\n\n# Boxplot for Age by Gender\nplt.figure(figsize=(10, 6))\nsns.boxplot(x='Gender', y='Age', data=df, palette='bright')\nplt.title('Age Distribution by Gender')\nplt.xlabel('Gender')\nplt.ylabel('Age')\nplt.show()\n\n# Boxplot for Income by Gender\nplt.figure(figsize=(10, 6))\nsns.boxplot(x='Gender', y='Income', data=df, palette='bright')\nplt.title('Income Distribution by Gender')\nplt.xlabel('Gender')\nplt.ylabel('Income')\nplt.show()\n\n# Boxplot for Miles by Gender\nplt.figure(figsize=(10, 6))\nsns.boxplot(x='Gender', y='Miles', data=df, palette='bright')\nplt.title('Miles Distribution by Gender')\nplt.xlabel('Gender')\nplt.ylabel('Miles')\nplt.show()",
      "outputs": []
    },
    {
      "id": "f5dce5fd-7f7f-4775-ba16-781776b9b4e6",
      "cell_type": "code",
      "metadata": {
        "noteable": {
          "cell_type": "code",
          "output_collection_id": "7f3627c8-ee54-40cc-a987-a4b39739f705"
        },
        "ExecuteTime": {
          "end_time": "2023-12-12T23:14:29.394919+00:00",
          "start_time": "2023-12-12T23:14:22.576590+00:00"
        }
      },
      "execution_count": null,
      "source": "# Pair Plot of Numeric Variables\nsns.pairplot(df, hue='Gender', palette='bright')\nplt.suptitle('Pair Plot of Numeric Variables by Gender', y=1.02)\nplt.show()",
      "outputs": []
    },
    {
      "id": "c1b00670-1923-44a0-984d-16b4645f305b",
      "cell_type": "code",
      "metadata": {
        "noteable": {
          "cell_type": "code",
          "output_collection_id": "aba607ec-0750-4f77-9a0e-47c6e2b4f1d0"
        },
        "ExecuteTime": {
          "end_time": "2023-12-12T23:14:55.826174+00:00",
          "start_time": "2023-12-12T23:14:55.353505+00:00"
        }
      },
      "execution_count": null,
      "source": "# Marital Status Analysis\nplt.figure(figsize=(8, 5))\nsns.countplot(x='MaritalStatus', data=df, palette='bright')\nplt.title('Marital Status Distribution')\nplt.xlabel('Marital Status')\nplt.ylabel('Count')\nplt.show()",
      "outputs": []
    },
    {
      "id": "cedf67b6-dab0-4e1a-8c42-854c0c479fe7",
      "cell_type": "code",
      "metadata": {
        "noteable": {
          "cell_type": "code",
          "output_collection_id": "0ca318a4-5e2f-4fc3-83a9-141b9fd97869"
        },
        "ExecuteTime": {
          "end_time": "2023-12-12T23:15:14.028131+00:00",
          "start_time": "2023-12-12T23:15:13.644387+00:00"
        }
      },
      "execution_count": null,
      "source": "# Income Distribution by Product\nplt.figure(figsize=(10, 6))\nsns.boxplot(x='Product', y='Income', data=df, palette='Blues_r')\nplt.title('Income Distribution by Product')\nplt.xlabel('Product')\nplt.ylabel('Income')\nplt.show()",
      "outputs": []
    },
    {
      "id": "893732a4-4dd7-4bfa-baef-e5c0993a071e",
      "cell_type": "code",
      "metadata": {
        "noteable": {
          "cell_type": "code",
          "output_collection_id": "b8c57e0e-f227-4ab6-b003-0e5746eee49c"
        },
        "ExecuteTime": {
          "end_time": "2023-12-12T23:15:41.014046+00:00",
          "start_time": "2023-12-12T23:15:40.618887+00:00"
        }
      },
      "execution_count": null,
      "source": "# Fitness Level Analysis\nplt.figure(figsize=(10, 6))\nsns.countplot(x='Fitness', data=df, palette='Blues_r')\nplt.title('Fitness Level Distribution')\nplt.xlabel('Fitness Level')\nplt.ylabel('Count')\nplt.show()",
      "outputs": []
    },
    {
      "id": "26cdc459-2fae-4c72-9198-afa596ae3456",
      "cell_type": "code",
      "metadata": {
        "noteable": {
          "cell_type": "code",
          "output_collection_id": "9f5a0890-20eb-4fb3-aec7-2d70bcdc6240"
        },
        "ExecuteTime": {
          "end_time": "2023-12-13T15:56:21.029071+00:00",
          "start_time": "2023-12-13T15:56:20.550564+00:00"
        }
      },
      "execution_count": null,
      "source": "# Correcting the Cluster Analysis to show Product instead of cluster numbers\n\n# KMeans Clustering\nkmeans = KMeans(n_clusters=3, random_state=0)\nkmeans.fit(scaled_df)\n\n# Adding cluster labels to the dataframe\ndf['Cluster'] = kmeans.labels_\n\n# Mapping cluster labels to products\ncluster_to_product = {i: v for i, v in enumerate(df.groupby('Cluster')['Product'].apply(lambda x: x.mode()[0]))}\ndf['ProductCluster'] = df['Cluster'].map(cluster_to_product)\n\n# Visualizing the clusters with Product labels\nplt.figure(figsize=(10, 8))\nsns.scatterplot(x='Age', y='Income', hue='ProductCluster', data=df, palette='bright')\nplt.title('Cluster Analysis - Age vs Income with Product Labels')\nplt.xlabel('Age')\nplt.ylabel('Income')\nplt.show()",
      "outputs": []
    },
    {
      "id": "fcb5adc1-e381-4a12-b23d-d34719038934",
      "cell_type": "code",
      "metadata": {
        "noteable": {
          "cell_type": "code",
          "output_collection_id": "1ea09851-7048-4098-bded-d02bc7d7790d"
        },
        "ExecuteTime": {
          "end_time": "2023-12-13T16:25:29.417044+00:00",
          "start_time": "2023-12-13T16:25:29.079772+00:00"
        }
      },
      "execution_count": null,
      "source": "# Fitness Level Analysis by Product\n\nplt.figure(figsize=(12, 8))\nsns.barplot(x='Product', y='Fitness', data=df, palette='Blues_r', ci=None)\nplt.title('Fitness Level by Product')\nplt.xlabel('Product')\nplt.ylabel('Average Fitness Level')\nplt.show()",
      "outputs": []
    }
  ]
}