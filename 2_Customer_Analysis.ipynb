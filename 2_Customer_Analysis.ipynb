{
  "nbformat": 4,
  "nbformat_minor": 5,
  "metadata": {
    "noteable-chatgpt": {
      "create_notebook": {
        "openai_conversation_id": "de9e0795-5128-5aa2-94e7-ac98e7956975",
        "openai_ephemeral_user_id": "6dc9d9b2-78a8-5d29-b1fc-2000e996e3c4",
        "openai_subdivision1_iso_code": "US-IN"
      }
    },
    "kernel_info": {
      "name": "python3"
    },
    "kernelspec": {
      "display_name": "Python 3.9",
      "identifier": "legacy",
      "language": "python",
      "language_version": "3.9",
      "name": "python3"
    },
    "selected_hardware_size": "small"
  },
  "cells": [
    {
      "id": "89315ecb-0699-4a41-b024-6fafc36961d9",
      "cell_type": "code",
      "metadata": {
        "jupyter": {
          "outputs_hidden": false,
          "source_hidden": false
        },
        "noteable": {
          "cell_type": "code"
        }
      },
      "execution_count": null,
      "source": "",
      "outputs": []
    },
    {
      "id": "13e10b8f-2a69-430e-81bf-5d01312a9afe",
      "cell_type": "code",
      "metadata": {
        "noteable": {
          "cell_type": "code",
          "output_collection_id": "d38a6a8d-4d3c-4fa6-a4be-eb728395cb1c"
        },
        "ExecuteTime": {
          "end_time": "2023-12-13T14:49:54.388548+00:00",
          "start_time": "2023-12-13T14:49:53.789486+00:00"
        }
      },
      "execution_count": null,
      "source": "import pandas as pd\nimport seaborn as sns\nimport matplotlib.pyplot as plt\n\n# Set the aesthetics for the plots\nsns.set(style=\"darkgrid\")\nplt.style.use(\"dark_background\")\n\n# Load the dataset\nfile_path = 'treadmill_data.csv'\ntreadmill_data = pd.read_csv(file_path)\n\n# Filter data for KP781 product\nkp781_data = treadmill_data[treadmill_data['Product'] == 'KP781']",
      "outputs": []
    },
    {
      "id": "af76a532-d83d-450f-aaf8-87edb038a8dc",
      "cell_type": "code",
      "metadata": {
        "noteable": {
          "cell_type": "code",
          "output_collection_id": "0709c15d-b68c-4660-b3b5-7b3b6b4b20cf"
        },
        "ExecuteTime": {
          "end_time": "2023-12-13T14:53:41.217684+00:00",
          "start_time": "2023-12-13T14:53:41.046822+00:00"
        }
      },
      "execution_count": null,
      "source": "# Target Customer Profile for KP781\n\n# Analyzing key characteristics of KP781 users\nkp781_profile = kp781_data.describe(include='all')\nprint(\"KP781 Customer Profile:\\n\", kp781_profile)",
      "outputs": []
    },
    {
      "id": "436bcfb0-bf3d-4444-bc5d-f9e6eb4942dc",
      "cell_type": "code",
      "metadata": {
        "noteable": {
          "cell_type": "code",
          "output_collection_id": "60a56289-285e-4ac1-b7ac-bda3797557aa"
        },
        "ExecuteTime": {
          "end_time": "2023-12-13T14:54:10.888055+00:00",
          "start_time": "2023-12-13T14:54:10.717801+00:00"
        }
      },
      "execution_count": null,
      "source": "# Comparative Analysis of KP781 with Other Products\n\n# Filter data for other products\nnon_kp781_data = treadmill_data[treadmill_data['Product'] != 'KP781']\n\n# Comparing key characteristics\nkp781_comparison = non_kp781_data.describe(include='all')\nprint(\"Comparison with Other Products:\\n\", kp781_comparison)",
      "outputs": []
    },
    {
      "id": "e7ab800c-e0ad-42f2-b7db-7f193fed60d1",
      "cell_type": "code",
      "metadata": {
        "noteable": {
          "cell_type": "code",
          "output_collection_id": "a292d52b-27a6-4fb9-99e3-bd757337fa86"
        },
        "ExecuteTime": {
          "end_time": "2023-12-13T15:00:34.217159+00:00",
          "start_time": "2023-12-13T15:00:33.624117+00:00"
        }
      },
      "execution_count": null,
      "source": "# Age Distribution of KP781 Users vs Other Products\n\nplt.figure(figsize=(10, 6))\nsns.histplot(kp781_data['Age'], color='blue', label='KP781', kde=True)\nsns.histplot(non_kp781_data['Age'], color='orange', label='Other Products', kde=True)\nplt.title('Age Distribution: KP781 vs Other Products')\nplt.legend()\nplt.show()",
      "outputs": []
    },
    {
      "id": "2aaee631-5be2-4748-a70a-7862c692b054",
      "cell_type": "code",
      "metadata": {
        "noteable": {
          "cell_type": "code",
          "output_collection_id": "7df821e3-03bf-4a93-8266-0e80d388e159"
        },
        "ExecuteTime": {
          "end_time": "2023-12-13T15:01:26.310178+00:00",
          "start_time": "2023-12-13T15:01:25.966289+00:00"
        }
      },
      "execution_count": null,
      "source": "# Gender Distribution for KP781 vs Other Products\n\nplt.figure(figsize=(10, 6))\nsns.countplot(x='Product', hue='Gender', data=treadmill_data, palette='Set1', order=['KP781', 'Other'])\nplt.title('Gender Distribution: KP781 vs Other Products')\nplt.show()",
      "outputs": []
    },
    {
      "id": "8e029b82-90f1-4ad1-b7b7-781c9dd9cee8",
      "cell_type": "code",
      "metadata": {
        "noteable": {
          "cell_type": "code",
          "output_collection_id": "0541168e-2293-4e3b-a804-91ce58d04166"
        },
        "ExecuteTime": {
          "end_time": "2023-12-13T15:02:30.792231+00:00",
          "start_time": "2023-12-13T15:02:30.427791+00:00"
        }
      },
      "execution_count": null,
      "source": "# Income Distribution for KP781 vs Other Products\n\nplt.figure(figsize=(10, 6))\nsns.boxplot(x='Product', y='Income', data=treadmill_data, palette='Blues_r', order=['KP781', 'Other'])\nplt.title('Income Distribution: KP781 vs Other Products')\nplt.show()",
      "outputs": []
    }
  ]
}