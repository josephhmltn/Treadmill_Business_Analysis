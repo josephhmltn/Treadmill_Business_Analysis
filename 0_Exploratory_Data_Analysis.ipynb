{
  "nbformat": 4,
  "nbformat_minor": 5,
  "metadata": {
    "noteable-chatgpt": {
      "create_notebook": {
        "openai_conversation_id": "feba20c2-1554-536d-915a-3fb7167aee30",
        "openai_ephemeral_user_id": "eec844f1-2705-5b44-b67e-c435818b8fff",
        "openai_subdivision1_iso_code": "US-IN"
      }
    },
    "kernel_info": {
      "name": "python3"
    },
    "kernelspec": {
      "display_name": "Python 3.9",
      "identifier": "legacy",
      "language": "python",
      "language_version": "3.9",
      "name": "python3"
    },
    "selected_hardware_size": "small"
  },
  "cells": [
    {
      "id": "4f4780b4-22b2-4b7e-8768-ffa820f63b45",
      "cell_type": "code",
      "metadata": {
        "jupyter": {
          "outputs_hidden": false,
          "source_hidden": false
        },
        "noteable": {
          "cell_type": "code"
        }
      },
      "execution_count": null,
      "source": "",
      "outputs": []
    },
    {
      "id": "e44c95e4-21a6-481c-a6bd-19b4dabe3939",
      "cell_type": "code",
      "metadata": {
        "jupyter": {
          "outputs_hidden": false,
          "source_hidden": false
        },
        "noteable": {
          "cell_type": "code"
        }
      },
      "execution_count": null,
      "source": "",
      "outputs": []
    },
    {
      "id": "95b0995a-de50-4861-b281-270fbebf25c2",
      "cell_type": "code",
      "metadata": {
        "noteable": {
          "cell_type": "code",
          "output_collection_id": "af9c1960-b712-4207-826c-305ca7c76fb6"
        },
        "ExecuteTime": {
          "end_time": "2023-12-12T22:48:40.681409+00:00",
          "start_time": "2023-12-12T22:48:40.480968+00:00"
        },
        "datalink": {
          "98f8e77c-7491-43d7-98ce-be1c41b6e558": {
            "applied_filters": [],
            "dataframe_info": {
              "default_index_used": false,
              "orig_num_cols": 8,
              "orig_num_rows": 6,
              "orig_size_bytes": 432,
              "truncated_num_cols": 8,
              "truncated_num_rows": 6,
              "truncated_size_bytes": 432,
              "truncated_string_columns": []
            },
            "display_id": "98f8e77c-7491-43d7-98ce-be1c41b6e558",
            "dx_settings": {
              "ALLOW_NOTEABLE_ATTRS": true,
              "COLUMN_SAMPLING_METHOD": "outer",
              "DB_LOCATION": ":memory:",
              "DEV_MODE": false,
              "DISPLAY_MAX_COLUMNS": 100,
              "DISPLAY_MAX_ROWS": 50000,
              "DISPLAY_MODE": "simple",
              "ENABLE_ASSIGNMENT": true,
              "ENABLE_DATALINK": true,
              "FLATTEN_COLUMN_VALUES": true,
              "FLATTEN_INDEX_VALUES": false,
              "GENERATE_DEX_METADATA": false,
              "HTML_TABLE_SCHEMA": false,
              "LOG_LEVEL": 30,
              "MAX_RENDER_SIZE_BYTES": 104857600,
              "MAX_STRING_LENGTH": 250,
              "NUM_PAST_SAMPLES_TRACKED": 3,
              "RANDOM_STATE": 12648430,
              "RESET_INDEX_VALUES": false,
              "ROW_SAMPLING_METHOD": "random",
              "SAMPLING_FACTOR": 0.1,
              "SAMPLING_METHOD": "random",
              "STRINGIFY_COLUMN_VALUES": true,
              "STRINGIFY_INDEX_VALUES": false
            },
            "sample_history": [],
            "sampling_time": "2023-12-12T22:48:40.519290",
            "user_variable_name": "descriptive_stats",
            "variable_name": "descriptive_stats"
          }
        }
      },
      "execution_count": null,
      "source": "import pandas as pd\n\n# Load the dataset\nfile_path = 'treadmill_data.csv'\ndf = pd.read_csv(file_path)\n\n# Display descriptive statistics for numeric columns\ndescriptive_stats = df.describe().transpose()\ndescriptive_stats",
      "outputs": []
    }
  ]
}