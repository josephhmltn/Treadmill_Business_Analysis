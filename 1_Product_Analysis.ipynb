{
  "nbformat": 4,
  "nbformat_minor": 5,
  "metadata": {
    "noteable-chatgpt": {
      "create_notebook": {
        "openai_conversation_id": "de9e0795-5128-5aa2-94e7-ac98e7956975",
        "openai_ephemeral_user_id": "eec844f1-2705-5b44-b67e-c435818b8fff",
        "openai_subdivision1_iso_code": "US-IN"
      }
    },
    "kernel_info": {
      "name": "python3"
    },
    "kernelspec": {
      "display_name": "Python 3.9",
      "identifier": "legacy",
      "language": "python",
      "language_version": "3.9",
      "name": "python3"
    },
    "selected_hardware_size": "small"
  },
  "cells": [
    {
      "id": "442cf4fd-5796-45ca-923a-4a71cdd89e6d",
      "cell_type": "code",
      "metadata": {
        "jupyter": {
          "outputs_hidden": false,
          "source_hidden": false
        },
        "noteable": {
          "cell_type": "code"
        }
      },
      "execution_count": null,
      "source": "",
      "outputs": []
    },
    {
      "id": "309c889b-70db-4fc5-91bf-1fa3ff0ed8b9",
      "cell_type": "code",
      "metadata": {
        "noteable": {
          "cell_type": "code",
          "output_collection_id": "83fe0252-8ab2-42d8-8adf-b841a8661186"
        },
        "ExecuteTime": {
          "end_time": "2023-12-12T23:24:18.450503+00:00",
          "start_time": "2023-12-12T23:24:17.810386+00:00"
        },
        "datalink": {
          "b7336179-0ffa-4ca9-9a27-6664a49e6c37": {
            "applied_filters": [],
            "dataframe_info": {
              "default_index_used": true,
              "orig_num_cols": 9,
              "orig_num_rows": 180,
              "orig_size_bytes": 14400,
              "truncated_num_cols": 9,
              "truncated_num_rows": 180,
              "truncated_size_bytes": 14400,
              "truncated_string_columns": []
            },
            "display_id": "b7336179-0ffa-4ca9-9a27-6664a49e6c37",
            "dx_settings": {
              "ALLOW_NOTEABLE_ATTRS": true,
              "COLUMN_SAMPLING_METHOD": "outer",
              "DB_LOCATION": ":memory:",
              "DEV_MODE": false,
              "DISPLAY_MAX_COLUMNS": 100,
              "DISPLAY_MAX_ROWS": 50000,
              "DISPLAY_MODE": "simple",
              "ENABLE_ASSIGNMENT": true,
              "ENABLE_DATALINK": true,
              "FLATTEN_COLUMN_VALUES": true,
              "FLATTEN_INDEX_VALUES": false,
              "GENERATE_DEX_METADATA": false,
              "HTML_TABLE_SCHEMA": false,
              "LOG_LEVEL": 30,
              "MAX_RENDER_SIZE_BYTES": 104857600,
              "MAX_STRING_LENGTH": 250,
              "NUM_PAST_SAMPLES_TRACKED": 3,
              "RANDOM_STATE": 12648430,
              "RESET_INDEX_VALUES": false,
              "ROW_SAMPLING_METHOD": "random",
              "SAMPLING_FACTOR": 0.1,
              "SAMPLING_METHOD": "random",
              "STRINGIFY_COLUMN_VALUES": true,
              "STRINGIFY_INDEX_VALUES": false
            },
            "sample_history": [],
            "sampling_time": "2023-12-12T23:24:18.285732",
            "user_variable_name": "treadmill_data",
            "variable_name": "treadmill_data"
          }
        }
      },
      "execution_count": null,
      "source": "import pandas as pd\nimport seaborn as sns\nimport matplotlib.pyplot as plt\n\n# Set the aesthetics for the plots\nsns.set(style=\"darkgrid\")\nplt.style.use(\"dark_background\")\n\n# Load the dataset\nfile_path = 'treadmill_data.csv'\ntreadmill_data = pd.read_csv(file_path)\n\n# Display the dataframe\nprint(\"Dataframe Shape:\", treadmill_data.shape)\ntreadmill_data",
      "outputs": []
    },
    {
      "id": "90dadde6-ca72-4c8e-a067-f24f5ff893b6",
      "cell_type": "code",
      "metadata": {
        "noteable": {
          "cell_type": "code",
          "output_collection_id": "308757f1-6692-4ef2-a1c1-35a1a9c0cf2e"
        },
        "ExecuteTime": {
          "end_time": "2023-12-12T23:37:02.990316+00:00",
          "start_time": "2023-12-12T23:37:02.504492+00:00"
        }
      },
      "execution_count": null,
      "source": "# Product Value Counts & Distribution\n\n# Count the frequency of each product\nproduct_counts = treadmill_data['Product'].value_counts()\nprint(\"Product Frequency:\\n\", product_counts)\n\n# Visualize the distribution of products\nplt.figure(figsize=(10, 6))\nsns.countplot(data=treadmill_data, x='Product', order=treadmill_data['Product'].value_counts().index, palette='Blues_r')\nplt.title('Distribution of Products')\nplt.xlabel('Product')\nplt.ylabel('Frequency')\nplt.show()",
      "outputs": []
    },
    {
      "id": "19dd3359-2105-4b1d-ad6d-adaed6ccd2ad",
      "cell_type": "code",
      "metadata": {
        "noteable": {
          "cell_type": "code",
          "output_collection_id": "d14111af-895d-44b4-abca-78dbe85c52ea"
        },
        "ExecuteTime": {
          "end_time": "2023-12-12T23:38:17.065393+00:00",
          "start_time": "2023-12-12T23:38:16.116358+00:00"
        }
      },
      "execution_count": null,
      "source": "# Cross-Analysis of Product with Age, Gender, Income, and Miles\n\n# Product vs Age\nplt.figure(figsize=(10, 6))\nsns.boxplot(data=treadmill_data, x='Product', y='Age', palette='Blues_r')\nplt.title('Product vs Age')\nplt.xlabel('Product')\nplt.ylabel('Age')\nplt.show()\n\n# Product vs Gender\nplt.figure(figsize=(10, 6))\nsns.countplot(data=treadmill_data, x='Product', hue='Gender', palette='Set1')\nplt.title('Product Preference by Gender')\nplt.xlabel('Product')\nplt.ylabel('Count')\nplt.show()\n\n# Product vs Income\nplt.figure(figsize=(10, 6))\nsns.scatterplot(data=treadmill_data, x='Product', y='Income', palette='Blues_r')\nplt.title('Product vs Income')\nplt.xlabel('Product')\nplt.ylabel('Income')\nplt.show()\n\n# Product vs Miles\nplt.figure(figsize=(10, 6))\nsns.boxplot(data=treadmill_data, x='Product', y='Miles', palette='Blues_r')\nplt.title('Product vs Miles')\nplt.xlabel('Product')\nplt.ylabel('Miles')\nplt.show()",
      "outputs": []
    },
    {
      "id": "99954582-bc7e-4279-9b9f-5b5462f32197",
      "cell_type": "code",
      "metadata": {
        "noteable": {
          "cell_type": "code"
        }
      },
      "execution_count": null,
      "source": "# Product Performance Analysis\n\n# Products preferred by most active users (high 'Usage' and 'Miles')\nplt.figure(figsize=(10, 6))\nsns.barplot(data=treadmill_data, x='Product', y='Usage', palette='Blues_r')\nplt.title('Product Preference by Usage')\nplt.xlabel('Product')\nplt.ylabel('Average Usage')\nplt.show()\n\nplt.figure(figsize=(10, 6))\nsns.barplot(data=treadmill_data, x='Product', y='Miles', palette='Blues_r')\nplt.title('Product Preference by Miles')\nplt.xlabel('Product')\nplt.ylabel('Average Miles')\nplt.show()\n\n# Products favored by more fitness-oriented users ('Fitness' rating)\nplt.figure(figsize=(10, 6))\nsns.barplot(data=treadmill_data, x='Product', y='Fitness', palette='Blues_r')\nplt.title('Product Preference by Fitness Level')\nplt.xlabel('Product')\nplt.ylabel('Average Fitness Rating')\nplt.show()",
      "outputs": []
    }
  ]
}