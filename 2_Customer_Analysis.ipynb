{
  "nbformat": 4,
  "nbformat_minor": 5,
  "metadata": {
    "noteable-chatgpt": {
      "create_notebook": {
        "openai_conversation_id": "de9e0795-5128-5aa2-94e7-ac98e7956975",
        "openai_ephemeral_user_id": "6dc9d9b2-78a8-5d29-b1fc-2000e996e3c4",
        "openai_subdivision1_iso_code": "US-IN"
      }
    },
    "kernel_info": {
      "name": "python3"
    },
    "kernelspec": {
      "display_name": "Python 3.9",
      "identifier": "legacy",
      "language": "python",
      "language_version": "3.9",
      "name": "python3"
    },
    "selected_hardware_size": "small"
  },
  "cells": [
    {
      "id": "89315ecb-0699-4a41-b024-6fafc36961d9",
      "cell_type": "code",
      "metadata": {
        "jupyter": {
          "outputs_hidden": false,
          "source_hidden": false
        },
        "noteable": {
          "cell_type": "code"
        }
      },
      "execution_count": null,
      "source": "",
      "outputs": []
    },
    {
      "id": "13e10b8f-2a69-430e-81bf-5d01312a9afe",
      "cell_type": "code",
      "metadata": {
        "noteable": {
          "cell_type": "code",
          "output_collection_id": "d38a6a8d-4d3c-4fa6-a4be-eb728395cb1c"
        },
        "ExecuteTime": {
          "end_time": "2023-12-13T14:49:54.388548+00:00",
          "start_time": "2023-12-13T14:49:53.789486+00:00"
        }
      },
      "execution_count": null,
      "source": "import pandas as pd\nimport seaborn as sns\nimport matplotlib.pyplot as plt\n\n# Set the aesthetics for the plots\nsns.set(style=\"darkgrid\")\nplt.style.use(\"dark_background\")\n\n# Load the dataset\nfile_path = 'treadmill_data.csv'\ntreadmill_data = pd.read_csv(file_path)\n\n# Filter data for KP781 product\nkp781_data = treadmill_data[treadmill_data['Product'] == 'KP781']",
      "outputs": []
    },
    {
      "id": "af76a532-d83d-450f-aaf8-87edb038a8dc",
      "cell_type": "code",
      "metadata": {
        "noteable": {
          "cell_type": "code"
        }
      },
      "execution_count": null,
      "source": "# Target Customer Profile for KP781\n\n# Analyzing key characteristics of KP781 users\nkp781_profile = kp781_data.describe(include='all')\nprint(\"KP781 Customer Profile:\\n\", kp781_profile)",
      "outputs": []
    }
  ]
}