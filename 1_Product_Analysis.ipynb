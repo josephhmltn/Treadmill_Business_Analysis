{
  "cells": [
    {
      "cell_type": "code",
      "execution_count": null,
      "id": "309c889b-70db-4fc5-91bf-1fa3ff0ed8b9",
      "metadata": {
        "ExecuteTime": {
          "end_time": "2023-12-12T23:24:18.450503+00:00",
          "start_time": "2023-12-12T23:24:17.810386+00:00"
        },
        "datalink": {
          "b7336179-0ffa-4ca9-9a27-6664a49e6c37": {
            "applied_filters": [],
            "dataframe_info": {
              "default_index_used": true,
              "orig_num_cols": 9,
              "orig_num_rows": 180,
              "orig_size_bytes": 14400,
              "truncated_num_cols": 9,
              "truncated_num_rows": 180,
              "truncated_size_bytes": 14400,
              "truncated_string_columns": []
            },
            "display_id": "b7336179-0ffa-4ca9-9a27-6664a49e6c37",
            "dx_settings": {
              "ALLOW_NOTEABLE_ATTRS": true,
              "COLUMN_SAMPLING_METHOD": "outer",
              "DB_LOCATION": ":memory:",
              "DEV_MODE": false,
              "DISPLAY_MAX_COLUMNS": 100,
              "DISPLAY_MAX_ROWS": 50000,
              "DISPLAY_MODE": "simple",
              "ENABLE_ASSIGNMENT": true,
              "ENABLE_DATALINK": true,
              "FLATTEN_COLUMN_VALUES": true,
              "FLATTEN_INDEX_VALUES": false,
              "GENERATE_DEX_METADATA": false,
              "HTML_TABLE_SCHEMA": false,
              "LOG_LEVEL": 30,
              "MAX_RENDER_SIZE_BYTES": 104857600,
              "MAX_STRING_LENGTH": 250,
              "NUM_PAST_SAMPLES_TRACKED": 3,
              "RANDOM_STATE": 12648430,
              "RESET_INDEX_VALUES": false,
              "ROW_SAMPLING_METHOD": "random",
              "SAMPLING_FACTOR": 0.1,
              "SAMPLING_METHOD": "random",
              "STRINGIFY_COLUMN_VALUES": true,
              "STRINGIFY_INDEX_VALUES": false
            },
            "sample_history": [],
            "sampling_time": "2023-12-12T23:24:18.285732",
            "user_variable_name": "treadmill_data",
            "variable_name": "treadmill_data"
          }
        },
        "noteable": {
          "cell_type": "code",
          "output_collection_id": "83fe0252-8ab2-42d8-8adf-b841a8661186"
        }
      },
      "outputs": [],
      "source": [
        "import pandas as pd\n",
        "import seaborn as sns\n",
        "import matplotlib.pyplot as plt\n",
        "\n",
        "# Set the aesthetics for the plots\n",
        "sns.set(style=\"darkgrid\")\n",
        "plt.style.use(\"dark_background\")\n",
        "\n",
        "# Load the dataset\n",
        "file_path = 'treadmill_data.csv'\n",
        "treadmill_data = pd.read_csv(file_path)\n",
        "\n",
        "# Display the dataframe\n",
        "print(\"Dataframe Shape:\", treadmill_data.shape)\n",
        "treadmill_data"
      ]
    },
    {
      "cell_type": "code",
      "execution_count": null,
      "id": "52c8a610-1837-4218-9470-cf1241d2997e",
      "metadata": {
        "ExecuteTime": {
          "end_time": "2023-12-13T17:45:51.550228+00:00",
          "start_time": "2023-12-13T17:45:50.642625+00:00"
        },
        "noteable": {
          "cell_type": "code",
          "output_collection_id": "6e99c830-a9fb-48d5-b9f9-91eea00a3a92"
        }
      },
      "outputs": [],
      "source": [
        "# Boxplot for Income Distribution by Product\n",
        "plt.figure(figsize=(10, 6))\n",
        "sns.boxplot(x='Product', y='Income', data=treadmill_data, palette='Blues_r')\n",
        "plt.title('Income Distribution by Product')\n",
        "plt.show()"
      ]
    },
    {
      "cell_type": "code",
      "execution_count": null,
      "id": "19dd3359-2105-4b1d-ad6d-adaed6ccd2ad",
      "metadata": {
        "ExecuteTime": {
          "end_time": "2023-12-12T23:38:17.065393+00:00",
          "start_time": "2023-12-12T23:38:16.116358+00:00"
        },
        "noteable": {
          "cell_type": "code",
          "output_collection_id": "d14111af-895d-44b4-abca-78dbe85c52ea"
        }
      },
      "outputs": [],
      "source": [
        "# Cross-Analysis of Product with Age, Gender, Income, and Miles\n",
        "\n",
        "# Product vs Age\n",
        "plt.figure(figsize=(10, 6))\n",
        "sns.boxplot(data=treadmill_data, x='Product', y='Age', palette='Blues_r')\n",
        "plt.title('Product vs Age')\n",
        "plt.xlabel('Product')\n",
        "plt.ylabel('Age')\n",
        "plt.show()\n",
        "\n",
        "# Product vs Gender\n",
        "plt.figure(figsize=(10, 6))\n",
        "sns.countplot(data=treadmill_data, x='Product', hue='Gender', palette='Set1')\n",
        "plt.title('Product Preference by Gender')\n",
        "plt.xlabel('Product')\n",
        "plt.ylabel('Count')\n",
        "plt.show()\n",
        "\n",
        "# Product vs Income\n",
        "plt.figure(figsize=(10, 6))\n",
        "sns.scatterplot(data=treadmill_data, x='Product', y='Income', palette='Blues_r')\n",
        "plt.title('Product vs Income')\n",
        "plt.xlabel('Product')\n",
        "plt.ylabel('Income')\n",
        "plt.show()\n",
        "\n",
        "# Product vs Miles\n",
        "plt.figure(figsize=(10, 6))\n",
        "sns.boxplot(data=treadmill_data, x='Product', y='Miles', palette='Blues_r')\n",
        "plt.title('Product vs Miles')\n",
        "plt.xlabel('Product')\n",
        "plt.ylabel('Miles')\n",
        "plt.show()"
      ]
    },
    {
      "cell_type": "code",
      "execution_count": null,
      "id": "99954582-bc7e-4279-9b9f-5b5462f32197",
      "metadata": {
        "ExecuteTime": {
          "end_time": "2023-12-12T23:39:00.372481+00:00",
          "start_time": "2023-12-12T23:38:59.535874+00:00"
        },
        "noteable": {
          "cell_type": "code",
          "output_collection_id": "73cd1e6a-447d-4599-aff8-f2255698408b"
        }
      },
      "outputs": [],
      "source": [
        "# Product Performance Analysis\n",
        "\n",
        "# Products preferred by most active users (high 'Usage' and 'Miles')\n",
        "plt.figure(figsize=(10, 6))\n",
        "sns.barplot(data=treadmill_data, x='Product', y='Usage', palette='Blues_r')\n",
        "plt.title('Product Preference by Usage')\n",
        "plt.xlabel('Product')\n",
        "plt.ylabel('Average Usage')\n",
        "plt.show()\n",
        "\n",
        "plt.figure(figsize=(10, 6))\n",
        "sns.barplot(data=treadmill_data, x='Product', y='Miles', palette='Blues_r')\n",
        "plt.title('Product Preference by Miles')\n",
        "plt.xlabel('Product')\n",
        "plt.ylabel('Average Miles')\n",
        "plt.show()\n",
        "\n",
        "# Products favored by more fitness-oriented users ('Fitness' rating)\n",
        "plt.figure(figsize=(10, 6))\n",
        "sns.barplot(data=treadmill_data, x='Product', y='Fitness', palette='Blues_r')\n",
        "plt.title('Product Preference by Fitness Level')\n",
        "plt.xlabel('Product')\n",
        "plt.ylabel('Average Fitness Rating')\n",
        "plt.show()"
      ]
    },
    {
      "cell_type": "code",
      "execution_count": null,
      "id": "1cbd92d8-3734-435c-8680-c18ba33b124a",
      "metadata": {
        "ExecuteTime": {
          "end_time": "2023-12-13T00:08:27.368794+00:00",
          "start_time": "2023-12-13T00:08:26.980125+00:00"
        },
        "noteable": {
          "cell_type": "code",
          "output_collection_id": "863c8534-ed64-426f-b36a-32fc54d97f8f"
        }
      },
      "outputs": [],
      "source": [
        "# Education Level Analysis Related to Product Choice\n",
        "\n",
        "# Analyze if education level influences product choice\n",
        "plt.figure(figsize=(10, 6))\n",
        "sns.barplot(x='Product', y='Education', data=treadmill_data, palette='Blues_r')\n",
        "plt.title('Product Choice vs Education Level')\n",
        "plt.show()"
      ]
    },
    {
      "cell_type": "code",
      "execution_count": null,
      "id": "526cf844-b5a4-47c7-97da-3fcc3ef16a93",
      "metadata": {
        "ExecuteTime": null,
        "noteable": {
          "cell_type": "code",
          "output_collection_id": "760a20fb-6fc5-47e9-ba80-488d392ba75c"
        }
      },
      "outputs": [],
      "source": [
        "# Product Preference Based on Fitness Level\n",
        "plt.figure(figsize=(10, 6))\n",
        "sns.barplot(x='Product', y='Fitness', data=treadmill_data, palette='Blues_r', ci=None)\n",
        "plt.title('Product Preference by Fitness Level')\n",
        "plt.show()"
      ]
    }
  ],
  "metadata": {
    "kernel_info": {
      "name": "python3"
    },
    "kernelspec": {
      "display_name": "Python 3.9",
      "identifier": "legacy",
      "language": "python",
      "language_version": "3.9",
      "name": "python3"
    },
    "noteable-chatgpt": {
      "create_notebook": {
        "openai_conversation_id": "de9e0795-5128-5aa2-94e7-ac98e7956975",
        "openai_ephemeral_user_id": "eec844f1-2705-5b44-b67e-c435818b8fff",
        "openai_subdivision1_iso_code": "US-IN"
      }
    },
    "selected_hardware_size": "small"
  },
  "nbformat": 4,
  "nbformat_minor": 5
}
